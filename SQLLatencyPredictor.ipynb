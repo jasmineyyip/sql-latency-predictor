{
  "nbformat": 4,
  "nbformat_minor": 0,
  "metadata": {
    "colab": {
      "provenance": [],
      "authorship_tag": "ABX9TyMEC8dKqBm3DFdHgiVxc76s",
      "include_colab_link": true
    },
    "kernelspec": {
      "name": "python3",
      "display_name": "Python 3"
    },
    "language_info": {
      "name": "python"
    }
  },
  "cells": [
    {
      "cell_type": "markdown",
      "metadata": {
        "id": "view-in-github",
        "colab_type": "text"
      },
      "source": [
        "<a href=\"https://colab.research.google.com/github/jasmineyyip/sql-latency-predictor/blob/main/SQLLatencyPredictor.ipynb\" target=\"_parent\"><img src=\"https://colab.research.google.com/assets/colab-badge.svg\" alt=\"Open In Colab\"/></a>"
      ]
    },
    {
      "cell_type": "markdown",
      "source": [
        "###Set Up"
      ],
      "metadata": {
        "id": "Ry36foP0Q9Jr"
      }
    },
    {
      "cell_type": "code",
      "execution_count": 76,
      "metadata": {
        "colab": {
          "base_uri": "https://localhost:8080/"
        },
        "id": "fchtdlDVDsgH",
        "outputId": "2da56d3c-21f7-4446-bf93-6826886e42dc"
      },
      "outputs": [
        {
          "output_type": "stream",
          "name": "stdout",
          "text": [
            "Requirement already satisfied: pandas in /usr/local/lib/python3.11/dist-packages (2.2.2)\n",
            "Requirement already satisfied: scikit-learn in /usr/local/lib/python3.11/dist-packages (1.6.1)\n",
            "Requirement already satisfied: xgboost in /usr/local/lib/python3.11/dist-packages (3.0.2)\n",
            "Requirement already satisfied: matplotlib in /usr/local/lib/python3.11/dist-packages (3.10.0)\n",
            "Requirement already satisfied: numpy>=1.23.2 in /usr/local/lib/python3.11/dist-packages (from pandas) (2.0.2)\n",
            "Requirement already satisfied: python-dateutil>=2.8.2 in /usr/local/lib/python3.11/dist-packages (from pandas) (2.9.0.post0)\n",
            "Requirement already satisfied: pytz>=2020.1 in /usr/local/lib/python3.11/dist-packages (from pandas) (2025.2)\n",
            "Requirement already satisfied: tzdata>=2022.7 in /usr/local/lib/python3.11/dist-packages (from pandas) (2025.2)\n",
            "Requirement already satisfied: scipy>=1.6.0 in /usr/local/lib/python3.11/dist-packages (from scikit-learn) (1.16.0)\n",
            "Requirement already satisfied: joblib>=1.2.0 in /usr/local/lib/python3.11/dist-packages (from scikit-learn) (1.5.1)\n",
            "Requirement already satisfied: threadpoolctl>=3.1.0 in /usr/local/lib/python3.11/dist-packages (from scikit-learn) (3.6.0)\n",
            "Requirement already satisfied: nvidia-nccl-cu12 in /usr/local/lib/python3.11/dist-packages (from xgboost) (2.21.5)\n",
            "Requirement already satisfied: contourpy>=1.0.1 in /usr/local/lib/python3.11/dist-packages (from matplotlib) (1.3.2)\n",
            "Requirement already satisfied: cycler>=0.10 in /usr/local/lib/python3.11/dist-packages (from matplotlib) (0.12.1)\n",
            "Requirement already satisfied: fonttools>=4.22.0 in /usr/local/lib/python3.11/dist-packages (from matplotlib) (4.59.0)\n",
            "Requirement already satisfied: kiwisolver>=1.3.1 in /usr/local/lib/python3.11/dist-packages (from matplotlib) (1.4.8)\n",
            "Requirement already satisfied: packaging>=20.0 in /usr/local/lib/python3.11/dist-packages (from matplotlib) (25.0)\n",
            "Requirement already satisfied: pillow>=8 in /usr/local/lib/python3.11/dist-packages (from matplotlib) (11.3.0)\n",
            "Requirement already satisfied: pyparsing>=2.3.1 in /usr/local/lib/python3.11/dist-packages (from matplotlib) (3.2.3)\n",
            "Requirement already satisfied: six>=1.5 in /usr/local/lib/python3.11/dist-packages (from python-dateutil>=2.8.2->pandas) (1.17.0)\n"
          ]
        }
      ],
      "source": [
        "pip install pandas scikit-learn xgboost matplotlib"
      ]
    },
    {
      "cell_type": "code",
      "source": [
        "pip install sqlite-utils"
      ],
      "metadata": {
        "colab": {
          "base_uri": "https://localhost:8080/"
        },
        "id": "-wF17PMWEYkN",
        "outputId": "862098fe-c803-42c7-9724-efa381b58887"
      },
      "execution_count": 77,
      "outputs": [
        {
          "output_type": "stream",
          "name": "stdout",
          "text": [
            "Requirement already satisfied: sqlite-utils in /usr/local/lib/python3.11/dist-packages (3.38)\n",
            "Requirement already satisfied: sqlite-fts4 in /usr/local/lib/python3.11/dist-packages (from sqlite-utils) (1.0.3)\n",
            "Requirement already satisfied: click in /usr/local/lib/python3.11/dist-packages (from sqlite-utils) (8.2.1)\n",
            "Requirement already satisfied: click-default-group>=1.2.3 in /usr/local/lib/python3.11/dist-packages (from sqlite-utils) (1.2.4)\n",
            "Requirement already satisfied: tabulate in /usr/local/lib/python3.11/dist-packages (from sqlite-utils) (0.9.0)\n",
            "Requirement already satisfied: python-dateutil in /usr/local/lib/python3.11/dist-packages (from sqlite-utils) (2.9.0.post0)\n",
            "Requirement already satisfied: pluggy in /usr/local/lib/python3.11/dist-packages (from sqlite-utils) (1.6.0)\n",
            "Requirement already satisfied: six>=1.5 in /usr/local/lib/python3.11/dist-packages (from python-dateutil->sqlite-utils) (1.17.0)\n"
          ]
        }
      ]
    },
    {
      "cell_type": "markdown",
      "source": [
        "###Database & Query Generation\n",
        "*  Use SQLite to create synthetic tables\n",
        "*  Populate with Synthetic Data"
      ],
      "metadata": {
        "id": "OzF0RUh-EvON"
      }
    },
    {
      "cell_type": "code",
      "source": [
        "import sqlite3\n",
        "\n",
        "conn = sqlite3.connect(\"latency_project.db\")\n",
        "cursor = conn.cursor()\n",
        "\n",
        "# create synthetic tables\n",
        "cursor.execute(\"DROP TABLE IF EXISTS Customers\")\n",
        "cursor.execute(\"\"\"\n",
        "CREATE TABLE Customers (\n",
        "    CustomerID INTEGER PRIMARY KEY,\n",
        "    Name TEXT,\n",
        "    Age INTEGER,\n",
        "    Country TEXT\n",
        ")\n",
        "\"\"\")\n",
        "\n",
        "cursor.execute(\"DROP TABLE IF EXISTS Orders\")\n",
        "cursor.execute(\"\"\"\n",
        "CREATE TABLE Orders (\n",
        "    OrderID INTEGER PRIMARY KEY,\n",
        "    CustomerID INTEGER,\n",
        "    Amount REAL,\n",
        "    OrderDate TEXT,\n",
        "    FOREIGN KEY(CustomerID) REFERENCES Customers(CustomerID)\n",
        ")\n",
        "\"\"\")\n",
        "\n",
        "conn.commit()"
      ],
      "metadata": {
        "id": "zuYrarwJEe9m"
      },
      "execution_count": 78,
      "outputs": []
    },
    {
      "cell_type": "code",
      "source": [
        "import random\n",
        "\n",
        "names = ['Alice', 'Bob', 'Charlie', 'Diana']\n",
        "countries = ['USA', 'Canada', 'Germany']\n",
        "\n",
        "customers = [(i, random.choice(names), random.randint(18, 70), random.choice(countries)) for i in range(1, 10001)]\n",
        "orders = [(i, random.randint(1, 10000), round(random.uniform(10, 1000), 2),\n",
        "           f\"2022-{random.randint(1, 12):02d}-{random.randint(1, 28):02d}\") for i in range(1, 20001)]\n",
        "\n",
        "cursor.executemany(\"INSERT INTO Customers VALUES (?, ?, ?, ?)\", customers)\n",
        "cursor.executemany(\"INSERT INTO Orders VALUES (?, ?, ?, ?)\", orders)\n",
        "conn.commit()"
      ],
      "metadata": {
        "id": "FLXP4pFTElZ0"
      },
      "execution_count": 79,
      "outputs": []
    },
    {
      "cell_type": "markdown",
      "source": [
        "### Generate SQL Queries & Measure Latency\n",
        "*   Create Python code to randomly generate SQL queries of different structure\n",
        "\n"
      ],
      "metadata": {
        "id": "54Y5BwLZE9Rf"
      }
    },
    {
      "cell_type": "code",
      "source": [
        "import time\n",
        "\n",
        "def run_and_time_query(query):\n",
        "    start = time.time()\n",
        "    cursor.execute(query)\n",
        "    _ = cursor.fetchall()\n",
        "    end = time.time()\n",
        "    return (end - start) * 1000  # ms\n",
        "\n",
        "query = \"\"\"\n",
        "SELECT Customers.Name, SUM(Orders.Amount)\n",
        "FROM Customers\n",
        "JOIN Orders ON Customers.CustomerID = Orders.CustomerID\n",
        "WHERE Age > 30 AND Country = 'USA'\n",
        "GROUP BY Customers.CustomerID\n",
        "\"\"\"\n",
        "latency_ms = run_and_time_query(query)"
      ],
      "metadata": {
        "id": "QLVKoviOEoGN"
      },
      "execution_count": 80,
      "outputs": []
    },
    {
      "cell_type": "markdown",
      "source": [
        "###Extracrt Query Features"
      ],
      "metadata": {
        "id": "SN490H1tHBSD"
      }
    },
    {
      "cell_type": "code",
      "source": [
        "import re\n",
        "import pandas as pd\n",
        "import time\n",
        "import sqlite3\n",
        "\n",
        "# connect to SQLite DB\n",
        "conn = sqlite3.connect(\"latency_project.db\")\n",
        "cursor = conn.cursor()\n",
        "\n",
        "query_templates = [\n",
        "    \"SELECT * FROM Customers WHERE Age > {age}\",\n",
        "    \"SELECT * FROM Orders WHERE Amount < {amount}\",\n",
        "    \"SELECT Customers.Name, Orders.Amount FROM Customers JOIN Orders ON Customers.CustomerID = Orders.CustomerID WHERE Age > {age} AND Country = '{country}'\",\n",
        "    \"SELECT Customers.Country, COUNT(*) FROM Customers GROUP BY Country\",\n",
        "    \"SELECT AVG(Orders.Amount) FROM Orders WHERE OrderDate > '2022-{month:02d}-01'\",\n",
        "    \"SELECT Orders.OrderID, Orders.Amount FROM Orders JOIN Customers ON Orders.CustomerID = Customers.CustomerID WHERE Country = '{country}' AND Age BETWEEN {age1} AND {age2}\",\n",
        "]\n",
        "\n",
        "import random\n",
        "\n",
        "# generate 100 synthetic queries with random combinations\n",
        "def generate_random_query():\n",
        "    template = random.choice(query_templates)\n",
        "    return template.format(\n",
        "        age=random.randint(20, 60),\n",
        "        amount=random.randint(50, 900),\n",
        "        country=random.choice(['USA', 'Canada', 'Germany']),\n",
        "        month=random.randint(1, 12),\n",
        "        age1=random.randint(20, 40),\n",
        "        age2=random.randint(41, 70)\n",
        "    )\n",
        "\n",
        "queries = [generate_random_query() for _ in range(100)]"
      ],
      "metadata": {
        "id": "T_c8sDs1HDv4"
      },
      "execution_count": 81,
      "outputs": []
    },
    {
      "cell_type": "code",
      "source": [
        "def estimate_rows(query: str) -> int:\n",
        "    try:\n",
        "        count_query = re.sub(r\"(?i)select\\s+.+?\\s+from\", \"SELECT COUNT(*) FROM\", query, count=1)\n",
        "        cursor.execute(count_query)\n",
        "        result = cursor.fetchone()\n",
        "        return result[0] if result else 0\n",
        "    except Exception as e:\n",
        "        print(f\"Count estimation failed: {e}\")\n",
        "        return -1"
      ],
      "metadata": {
        "id": "c4faT_L6N3nM"
      },
      "execution_count": 82,
      "outputs": []
    },
    {
      "cell_type": "code",
      "source": [
        "def extract_features(query):\n",
        "    num_joins = len(re.findall(r'\\bJOIN\\b', query, flags=re.IGNORECASE))\n",
        "    num_filters = len(re.findall(r'\\b(WHERE|AND|OR)\\b', query, flags=re.IGNORECASE))\n",
        "    uses_group_by = int(bool(re.search(r'\\bGROUP BY\\b', query, flags=re.IGNORECASE)))\n",
        "    uses_aggregation = int(bool(re.search(r'\\b(SUM|AVG|COUNT|MIN|MAX)\\b', query, flags=re.IGNORECASE)))\n",
        "    query_length = len(query.split())\n",
        "    estimated_rows = estimate_rows(query)\n",
        "\n",
        "    return {\n",
        "        \"num_joins\": num_joins,\n",
        "        \"num_filters\": num_filters,\n",
        "        \"uses_group_by\": uses_group_by,\n",
        "        \"uses_aggregation\": uses_aggregation,\n",
        "        \"query_length\": query_length,\n",
        "        \"estimated_rows\": estimated_rows,\n",
        "    }\n",
        "\n",
        "# run queries and record their latencies\n",
        "def run_and_time_query(query):\n",
        "    start = time.time()\n",
        "    try:\n",
        "        cursor.execute(query)\n",
        "        _ = cursor.fetchall()\n",
        "    except Exception as e:\n",
        "        print(f\"Query failed: {e}\")\n",
        "        return None\n",
        "    end = time.time()\n",
        "    return (end - start) * 1000  # ms"
      ],
      "metadata": {
        "id": "qjPcI1PRHhv7"
      },
      "execution_count": 83,
      "outputs": []
    },
    {
      "cell_type": "code",
      "source": [
        "# build dataset\n",
        "data = []\n",
        "for query in queries:\n",
        "    latency = run_and_time_query(query)\n",
        "    if latency is not None:\n",
        "        features = extract_features(query)\n",
        "        features[\"latency_ms\"] = latency\n",
        "        data.append(features)\n",
        "\n",
        "# create DataFrame\n",
        "df = pd.DataFrame(data)\n",
        "print(df.head())"
      ],
      "metadata": {
        "colab": {
          "base_uri": "https://localhost:8080/"
        },
        "id": "xHpl5fdOHn3V",
        "outputId": "b14e2739-3b1e-4ff7-c36a-13bdb39dd88b"
      },
      "execution_count": 84,
      "outputs": [
        {
          "output_type": "stream",
          "name": "stdout",
          "text": [
            "   num_joins  num_filters  uses_group_by  uses_aggregation  query_length  \\\n",
            "0          0            1              0                 0             8   \n",
            "1          0            0              1                 1             8   \n",
            "2          0            1              0                 1             8   \n",
            "3          0            1              0                 0             8   \n",
            "4          0            1              0                 0             8   \n",
            "\n",
            "   estimated_rows  latency_ms  \n",
            "0           13586   38.717031  \n",
            "1            3365    6.847858  \n",
            "2           13229    3.824949  \n",
            "3            2445    7.158518  \n",
            "4            8178   20.765066  \n"
          ]
        }
      ]
    },
    {
      "cell_type": "markdown",
      "source": [
        "###Train a Latency Prediction Model"
      ],
      "metadata": {
        "id": "gaqNquN4Iqtd"
      }
    },
    {
      "cell_type": "code",
      "source": [
        "from sklearn.ensemble import RandomForestRegressor\n",
        "from sklearn.model_selection import train_test_split\n",
        "from sklearn.metrics import r2_score, mean_absolute_error, mean_squared_error\n",
        "import numpy as np\n",
        "\n",
        "# prepare features and labels\n",
        "X = df.drop(columns=[\"latency_ms\"])\n",
        "y = df[\"latency_ms\"]\n",
        "\n",
        "X_train, X_test, y_train, y_test = train_test_split(X, y, test_size=0.2, random_state=42)\n",
        "\n",
        "# train the model with random forest regressor\n",
        "model = RandomForestRegressor(n_estimators=100, random_state=42)\n",
        "model.fit(X_train, y_train)\n",
        "\n",
        "# predict\n",
        "y_pred = model.predict(X_test)\n",
        "\n",
        "# evaluate\n",
        "r2 = r2_score(y_test, y_pred)\n",
        "mae = mean_absolute_error(y_test, y_pred)\n",
        "rmse = np.sqrt(mean_squared_error(y_test, y_pred))\n",
        "\n",
        "print(f\"R² Score: {r2:.3f}\")\n",
        "print(f\"MAE: {mae:.3f} ms\")\n",
        "print(f\"RMSE: {rmse:.3f} ms\")"
      ],
      "metadata": {
        "colab": {
          "base_uri": "https://localhost:8080/"
        },
        "id": "zNj2cWj0IruD",
        "outputId": "71570ee2-a307-40a9-9fee-3ce07d1e3457"
      },
      "execution_count": 85,
      "outputs": [
        {
          "output_type": "stream",
          "name": "stdout",
          "text": [
            "R² Score: 0.663\n",
            "MAE: 3.903 ms\n",
            "RMSE: 6.900 ms\n"
          ]
        }
      ]
    },
    {
      "cell_type": "markdown",
      "source": [
        "###Simulate Workload Drift"
      ],
      "metadata": {
        "id": "URLNZgQVKPGR"
      }
    },
    {
      "cell_type": "code",
      "source": [
        "# phase A and phase B query templates\n",
        "phase_A_templates = [\n",
        "    \"SELECT * FROM Customers WHERE Age > {age}\",\n",
        "    \"SELECT * FROM Orders WHERE Amount < {amount}\",\n",
        "    \"SELECT Orders.OrderID FROM Orders WHERE OrderDate > '2022-{month:02d}-01'\"\n",
        "]\n",
        "\n",
        "phase_B_templates = [\n",
        "    \"SELECT Customers.Name, Orders.Amount FROM Customers JOIN Orders ON Customers.CustomerID = Orders.CustomerID WHERE Age > {age} AND Country = '{country}'\",\n",
        "    \"SELECT Customers.Country, COUNT(*) FROM Customers GROUP BY Country\",\n",
        "    \"SELECT AVG(Orders.Amount) FROM Orders WHERE OrderDate > '2022-{month:02d}-01'\",\n",
        "    \"SELECT Orders.OrderID, Orders.Amount FROM Orders JOIN Customers ON Orders.CustomerID = Customers.CustomerID WHERE Country = '{country}' AND Age BETWEEN {age1} AND {age2}\"\n",
        "]\n",
        "\n",
        "# generate a query with placeholders\n",
        "def generate_query(template):\n",
        "    return template.format(\n",
        "        age=random.randint(20, 60),\n",
        "        amount=random.randint(50, 900),\n",
        "        country=random.choice(['USA', 'Canada', 'Germany']),\n",
        "        month=random.randint(1, 12),\n",
        "        age1=random.randint(20, 40),\n",
        "        age2=random.randint(41, 70)\n",
        "    )\n",
        "\n",
        "# generate phase A and phase B queries\n",
        "queries_A = [generate_query(random.choice(phase_A_templates)) for _ in range(50)]\n",
        "queries_B = [generate_query(random.choice(phase_B_templates)) for _ in range(50)]\n",
        "\n",
        "data_A, data_B = [], []\n",
        "\n",
        "for q in queries_A:\n",
        "    latency = run_and_time_query(q)\n",
        "    if latency is not None:\n",
        "        f = extract_features(q)\n",
        "        f['latency_ms'] = latency\n",
        "        f['phase'] = 'A'\n",
        "        data_A.append(f)\n",
        "\n",
        "for q in queries_B:\n",
        "    latency = run_and_time_query(q)\n",
        "    if latency is not None:\n",
        "        f = extract_features(q)\n",
        "        f['latency_ms'] = latency\n",
        "        f['phase'] = 'B'\n",
        "        data_B.append(f)\n",
        "\n",
        "# combine into one dataset\n",
        "df_all = pd.DataFrame(data_A + data_B)"
      ],
      "metadata": {
        "id": "KYKPd8uhKQnV"
      },
      "execution_count": 86,
      "outputs": []
    },
    {
      "cell_type": "code",
      "source": [
        "summary_stats = df_all.groupby('phase')[['num_joins', 'num_filters', 'uses_group_by', 'uses_aggregation', 'query_length', 'latency_ms']].mean().round(2)\n",
        "summary_stats"
      ],
      "metadata": {
        "colab": {
          "base_uri": "https://localhost:8080/",
          "height": 143
        },
        "id": "N5FFFy44Kq8C",
        "outputId": "6bbc0852-30c0-466b-cc1f-ed719a9c0b27"
      },
      "execution_count": 87,
      "outputs": [
        {
          "output_type": "execute_result",
          "data": {
            "text/plain": [
              "       num_joins  num_filters  uses_group_by  uses_aggregation  query_length  \\\n",
              "phase                                                                          \n",
              "A            0.0         1.00           0.00               0.0          8.00   \n",
              "B            0.5         1.58           0.26               0.5         14.18   \n",
              "\n",
              "       latency_ms  \n",
              "phase              \n",
              "A           21.96  \n",
              "B           22.63  "
            ],
            "text/html": [
              "\n",
              "  <div id=\"df-aed2ce89-e2f4-4a8c-a070-1d1b658e17f4\" class=\"colab-df-container\">\n",
              "    <div>\n",
              "<style scoped>\n",
              "    .dataframe tbody tr th:only-of-type {\n",
              "        vertical-align: middle;\n",
              "    }\n",
              "\n",
              "    .dataframe tbody tr th {\n",
              "        vertical-align: top;\n",
              "    }\n",
              "\n",
              "    .dataframe thead th {\n",
              "        text-align: right;\n",
              "    }\n",
              "</style>\n",
              "<table border=\"1\" class=\"dataframe\">\n",
              "  <thead>\n",
              "    <tr style=\"text-align: right;\">\n",
              "      <th></th>\n",
              "      <th>num_joins</th>\n",
              "      <th>num_filters</th>\n",
              "      <th>uses_group_by</th>\n",
              "      <th>uses_aggregation</th>\n",
              "      <th>query_length</th>\n",
              "      <th>latency_ms</th>\n",
              "    </tr>\n",
              "    <tr>\n",
              "      <th>phase</th>\n",
              "      <th></th>\n",
              "      <th></th>\n",
              "      <th></th>\n",
              "      <th></th>\n",
              "      <th></th>\n",
              "      <th></th>\n",
              "    </tr>\n",
              "  </thead>\n",
              "  <tbody>\n",
              "    <tr>\n",
              "      <th>A</th>\n",
              "      <td>0.0</td>\n",
              "      <td>1.00</td>\n",
              "      <td>0.00</td>\n",
              "      <td>0.0</td>\n",
              "      <td>8.00</td>\n",
              "      <td>21.96</td>\n",
              "    </tr>\n",
              "    <tr>\n",
              "      <th>B</th>\n",
              "      <td>0.5</td>\n",
              "      <td>1.58</td>\n",
              "      <td>0.26</td>\n",
              "      <td>0.5</td>\n",
              "      <td>14.18</td>\n",
              "      <td>22.63</td>\n",
              "    </tr>\n",
              "  </tbody>\n",
              "</table>\n",
              "</div>\n",
              "    <div class=\"colab-df-buttons\">\n",
              "\n",
              "  <div class=\"colab-df-container\">\n",
              "    <button class=\"colab-df-convert\" onclick=\"convertToInteractive('df-aed2ce89-e2f4-4a8c-a070-1d1b658e17f4')\"\n",
              "            title=\"Convert this dataframe to an interactive table.\"\n",
              "            style=\"display:none;\">\n",
              "\n",
              "  <svg xmlns=\"http://www.w3.org/2000/svg\" height=\"24px\" viewBox=\"0 -960 960 960\">\n",
              "    <path d=\"M120-120v-720h720v720H120Zm60-500h600v-160H180v160Zm220 220h160v-160H400v160Zm0 220h160v-160H400v160ZM180-400h160v-160H180v160Zm440 0h160v-160H620v160ZM180-180h160v-160H180v160Zm440 0h160v-160H620v160Z\"/>\n",
              "  </svg>\n",
              "    </button>\n",
              "\n",
              "  <style>\n",
              "    .colab-df-container {\n",
              "      display:flex;\n",
              "      gap: 12px;\n",
              "    }\n",
              "\n",
              "    .colab-df-convert {\n",
              "      background-color: #E8F0FE;\n",
              "      border: none;\n",
              "      border-radius: 50%;\n",
              "      cursor: pointer;\n",
              "      display: none;\n",
              "      fill: #1967D2;\n",
              "      height: 32px;\n",
              "      padding: 0 0 0 0;\n",
              "      width: 32px;\n",
              "    }\n",
              "\n",
              "    .colab-df-convert:hover {\n",
              "      background-color: #E2EBFA;\n",
              "      box-shadow: 0px 1px 2px rgba(60, 64, 67, 0.3), 0px 1px 3px 1px rgba(60, 64, 67, 0.15);\n",
              "      fill: #174EA6;\n",
              "    }\n",
              "\n",
              "    .colab-df-buttons div {\n",
              "      margin-bottom: 4px;\n",
              "    }\n",
              "\n",
              "    [theme=dark] .colab-df-convert {\n",
              "      background-color: #3B4455;\n",
              "      fill: #D2E3FC;\n",
              "    }\n",
              "\n",
              "    [theme=dark] .colab-df-convert:hover {\n",
              "      background-color: #434B5C;\n",
              "      box-shadow: 0px 1px 3px 1px rgba(0, 0, 0, 0.15);\n",
              "      filter: drop-shadow(0px 1px 2px rgba(0, 0, 0, 0.3));\n",
              "      fill: #FFFFFF;\n",
              "    }\n",
              "  </style>\n",
              "\n",
              "    <script>\n",
              "      const buttonEl =\n",
              "        document.querySelector('#df-aed2ce89-e2f4-4a8c-a070-1d1b658e17f4 button.colab-df-convert');\n",
              "      buttonEl.style.display =\n",
              "        google.colab.kernel.accessAllowed ? 'block' : 'none';\n",
              "\n",
              "      async function convertToInteractive(key) {\n",
              "        const element = document.querySelector('#df-aed2ce89-e2f4-4a8c-a070-1d1b658e17f4');\n",
              "        const dataTable =\n",
              "          await google.colab.kernel.invokeFunction('convertToInteractive',\n",
              "                                                    [key], {});\n",
              "        if (!dataTable) return;\n",
              "\n",
              "        const docLinkHtml = 'Like what you see? Visit the ' +\n",
              "          '<a target=\"_blank\" href=https://colab.research.google.com/notebooks/data_table.ipynb>data table notebook</a>'\n",
              "          + ' to learn more about interactive tables.';\n",
              "        element.innerHTML = '';\n",
              "        dataTable['output_type'] = 'display_data';\n",
              "        await google.colab.output.renderOutput(dataTable, element);\n",
              "        const docLink = document.createElement('div');\n",
              "        docLink.innerHTML = docLinkHtml;\n",
              "        element.appendChild(docLink);\n",
              "      }\n",
              "    </script>\n",
              "  </div>\n",
              "\n",
              "\n",
              "    <div id=\"df-d4664c3d-fc8b-4994-9b16-ccaca56d77ca\">\n",
              "      <button class=\"colab-df-quickchart\" onclick=\"quickchart('df-d4664c3d-fc8b-4994-9b16-ccaca56d77ca')\"\n",
              "                title=\"Suggest charts\"\n",
              "                style=\"display:none;\">\n",
              "\n",
              "<svg xmlns=\"http://www.w3.org/2000/svg\" height=\"24px\"viewBox=\"0 0 24 24\"\n",
              "     width=\"24px\">\n",
              "    <g>\n",
              "        <path d=\"M19 3H5c-1.1 0-2 .9-2 2v14c0 1.1.9 2 2 2h14c1.1 0 2-.9 2-2V5c0-1.1-.9-2-2-2zM9 17H7v-7h2v7zm4 0h-2V7h2v10zm4 0h-2v-4h2v4z\"/>\n",
              "    </g>\n",
              "</svg>\n",
              "      </button>\n",
              "\n",
              "<style>\n",
              "  .colab-df-quickchart {\n",
              "      --bg-color: #E8F0FE;\n",
              "      --fill-color: #1967D2;\n",
              "      --hover-bg-color: #E2EBFA;\n",
              "      --hover-fill-color: #174EA6;\n",
              "      --disabled-fill-color: #AAA;\n",
              "      --disabled-bg-color: #DDD;\n",
              "  }\n",
              "\n",
              "  [theme=dark] .colab-df-quickchart {\n",
              "      --bg-color: #3B4455;\n",
              "      --fill-color: #D2E3FC;\n",
              "      --hover-bg-color: #434B5C;\n",
              "      --hover-fill-color: #FFFFFF;\n",
              "      --disabled-bg-color: #3B4455;\n",
              "      --disabled-fill-color: #666;\n",
              "  }\n",
              "\n",
              "  .colab-df-quickchart {\n",
              "    background-color: var(--bg-color);\n",
              "    border: none;\n",
              "    border-radius: 50%;\n",
              "    cursor: pointer;\n",
              "    display: none;\n",
              "    fill: var(--fill-color);\n",
              "    height: 32px;\n",
              "    padding: 0;\n",
              "    width: 32px;\n",
              "  }\n",
              "\n",
              "  .colab-df-quickchart:hover {\n",
              "    background-color: var(--hover-bg-color);\n",
              "    box-shadow: 0 1px 2px rgba(60, 64, 67, 0.3), 0 1px 3px 1px rgba(60, 64, 67, 0.15);\n",
              "    fill: var(--button-hover-fill-color);\n",
              "  }\n",
              "\n",
              "  .colab-df-quickchart-complete:disabled,\n",
              "  .colab-df-quickchart-complete:disabled:hover {\n",
              "    background-color: var(--disabled-bg-color);\n",
              "    fill: var(--disabled-fill-color);\n",
              "    box-shadow: none;\n",
              "  }\n",
              "\n",
              "  .colab-df-spinner {\n",
              "    border: 2px solid var(--fill-color);\n",
              "    border-color: transparent;\n",
              "    border-bottom-color: var(--fill-color);\n",
              "    animation:\n",
              "      spin 1s steps(1) infinite;\n",
              "  }\n",
              "\n",
              "  @keyframes spin {\n",
              "    0% {\n",
              "      border-color: transparent;\n",
              "      border-bottom-color: var(--fill-color);\n",
              "      border-left-color: var(--fill-color);\n",
              "    }\n",
              "    20% {\n",
              "      border-color: transparent;\n",
              "      border-left-color: var(--fill-color);\n",
              "      border-top-color: var(--fill-color);\n",
              "    }\n",
              "    30% {\n",
              "      border-color: transparent;\n",
              "      border-left-color: var(--fill-color);\n",
              "      border-top-color: var(--fill-color);\n",
              "      border-right-color: var(--fill-color);\n",
              "    }\n",
              "    40% {\n",
              "      border-color: transparent;\n",
              "      border-right-color: var(--fill-color);\n",
              "      border-top-color: var(--fill-color);\n",
              "    }\n",
              "    60% {\n",
              "      border-color: transparent;\n",
              "      border-right-color: var(--fill-color);\n",
              "    }\n",
              "    80% {\n",
              "      border-color: transparent;\n",
              "      border-right-color: var(--fill-color);\n",
              "      border-bottom-color: var(--fill-color);\n",
              "    }\n",
              "    90% {\n",
              "      border-color: transparent;\n",
              "      border-bottom-color: var(--fill-color);\n",
              "    }\n",
              "  }\n",
              "</style>\n",
              "\n",
              "      <script>\n",
              "        async function quickchart(key) {\n",
              "          const quickchartButtonEl =\n",
              "            document.querySelector('#' + key + ' button');\n",
              "          quickchartButtonEl.disabled = true;  // To prevent multiple clicks.\n",
              "          quickchartButtonEl.classList.add('colab-df-spinner');\n",
              "          try {\n",
              "            const charts = await google.colab.kernel.invokeFunction(\n",
              "                'suggestCharts', [key], {});\n",
              "          } catch (error) {\n",
              "            console.error('Error during call to suggestCharts:', error);\n",
              "          }\n",
              "          quickchartButtonEl.classList.remove('colab-df-spinner');\n",
              "          quickchartButtonEl.classList.add('colab-df-quickchart-complete');\n",
              "        }\n",
              "        (() => {\n",
              "          let quickchartButtonEl =\n",
              "            document.querySelector('#df-d4664c3d-fc8b-4994-9b16-ccaca56d77ca button');\n",
              "          quickchartButtonEl.style.display =\n",
              "            google.colab.kernel.accessAllowed ? 'block' : 'none';\n",
              "        })();\n",
              "      </script>\n",
              "    </div>\n",
              "\n",
              "  <div id=\"id_4e907190-2269-4fda-904a-ed91fa1b014a\">\n",
              "    <style>\n",
              "      .colab-df-generate {\n",
              "        background-color: #E8F0FE;\n",
              "        border: none;\n",
              "        border-radius: 50%;\n",
              "        cursor: pointer;\n",
              "        display: none;\n",
              "        fill: #1967D2;\n",
              "        height: 32px;\n",
              "        padding: 0 0 0 0;\n",
              "        width: 32px;\n",
              "      }\n",
              "\n",
              "      .colab-df-generate:hover {\n",
              "        background-color: #E2EBFA;\n",
              "        box-shadow: 0px 1px 2px rgba(60, 64, 67, 0.3), 0px 1px 3px 1px rgba(60, 64, 67, 0.15);\n",
              "        fill: #174EA6;\n",
              "      }\n",
              "\n",
              "      [theme=dark] .colab-df-generate {\n",
              "        background-color: #3B4455;\n",
              "        fill: #D2E3FC;\n",
              "      }\n",
              "\n",
              "      [theme=dark] .colab-df-generate:hover {\n",
              "        background-color: #434B5C;\n",
              "        box-shadow: 0px 1px 3px 1px rgba(0, 0, 0, 0.15);\n",
              "        filter: drop-shadow(0px 1px 2px rgba(0, 0, 0, 0.3));\n",
              "        fill: #FFFFFF;\n",
              "      }\n",
              "    </style>\n",
              "    <button class=\"colab-df-generate\" onclick=\"generateWithVariable('summary_stats')\"\n",
              "            title=\"Generate code using this dataframe.\"\n",
              "            style=\"display:none;\">\n",
              "\n",
              "  <svg xmlns=\"http://www.w3.org/2000/svg\" height=\"24px\"viewBox=\"0 0 24 24\"\n",
              "       width=\"24px\">\n",
              "    <path d=\"M7,19H8.4L18.45,9,17,7.55,7,17.6ZM5,21V16.75L18.45,3.32a2,2,0,0,1,2.83,0l1.4,1.43a1.91,1.91,0,0,1,.58,1.4,1.91,1.91,0,0,1-.58,1.4L9.25,21ZM18.45,9,17,7.55Zm-12,3A5.31,5.31,0,0,0,4.9,8.1,5.31,5.31,0,0,0,1,6.5,5.31,5.31,0,0,0,4.9,4.9,5.31,5.31,0,0,0,6.5,1,5.31,5.31,0,0,0,8.1,4.9,5.31,5.31,0,0,0,12,6.5,5.46,5.46,0,0,0,6.5,12Z\"/>\n",
              "  </svg>\n",
              "    </button>\n",
              "    <script>\n",
              "      (() => {\n",
              "      const buttonEl =\n",
              "        document.querySelector('#id_4e907190-2269-4fda-904a-ed91fa1b014a button.colab-df-generate');\n",
              "      buttonEl.style.display =\n",
              "        google.colab.kernel.accessAllowed ? 'block' : 'none';\n",
              "\n",
              "      buttonEl.onclick = () => {\n",
              "        google.colab.notebook.generateWithVariable('summary_stats');\n",
              "      }\n",
              "      })();\n",
              "    </script>\n",
              "  </div>\n",
              "\n",
              "    </div>\n",
              "  </div>\n"
            ],
            "application/vnd.google.colaboratory.intrinsic+json": {
              "type": "dataframe",
              "variable_name": "summary_stats",
              "summary": "{\n  \"name\": \"summary_stats\",\n  \"rows\": 2,\n  \"fields\": [\n    {\n      \"column\": \"phase\",\n      \"properties\": {\n        \"dtype\": \"string\",\n        \"num_unique_values\": 2,\n        \"samples\": [\n          \"B\",\n          \"A\"\n        ],\n        \"semantic_type\": \"\",\n        \"description\": \"\"\n      }\n    },\n    {\n      \"column\": \"num_joins\",\n      \"properties\": {\n        \"dtype\": \"number\",\n        \"std\": 0.3535533905932738,\n        \"min\": 0.0,\n        \"max\": 0.5,\n        \"num_unique_values\": 2,\n        \"samples\": [\n          0.5,\n          0.0\n        ],\n        \"semantic_type\": \"\",\n        \"description\": \"\"\n      }\n    },\n    {\n      \"column\": \"num_filters\",\n      \"properties\": {\n        \"dtype\": \"number\",\n        \"std\": 0.4101219330881976,\n        \"min\": 1.0,\n        \"max\": 1.58,\n        \"num_unique_values\": 2,\n        \"samples\": [\n          1.58,\n          1.0\n        ],\n        \"semantic_type\": \"\",\n        \"description\": \"\"\n      }\n    },\n    {\n      \"column\": \"uses_group_by\",\n      \"properties\": {\n        \"dtype\": \"number\",\n        \"std\": 0.18384776310850237,\n        \"min\": 0.0,\n        \"max\": 0.26,\n        \"num_unique_values\": 2,\n        \"samples\": [\n          0.26,\n          0.0\n        ],\n        \"semantic_type\": \"\",\n        \"description\": \"\"\n      }\n    },\n    {\n      \"column\": \"uses_aggregation\",\n      \"properties\": {\n        \"dtype\": \"number\",\n        \"std\": 0.3535533905932738,\n        \"min\": 0.0,\n        \"max\": 0.5,\n        \"num_unique_values\": 2,\n        \"samples\": [\n          0.5,\n          0.0\n        ],\n        \"semantic_type\": \"\",\n        \"description\": \"\"\n      }\n    },\n    {\n      \"column\": \"query_length\",\n      \"properties\": {\n        \"dtype\": \"number\",\n        \"std\": 4.369919907732863,\n        \"min\": 8.0,\n        \"max\": 14.18,\n        \"num_unique_values\": 2,\n        \"samples\": [\n          14.18,\n          8.0\n        ],\n        \"semantic_type\": \"\",\n        \"description\": \"\"\n      }\n    },\n    {\n      \"column\": \"latency_ms\",\n      \"properties\": {\n        \"dtype\": \"number\",\n        \"std\": 0.47376154339498555,\n        \"min\": 21.96,\n        \"max\": 22.63,\n        \"num_unique_values\": 2,\n        \"samples\": [\n          22.63,\n          21.96\n        ],\n        \"semantic_type\": \"\",\n        \"description\": \"\"\n      }\n    }\n  ]\n}"
            }
          },
          "metadata": {},
          "execution_count": 87
        }
      ]
    },
    {
      "cell_type": "code",
      "source": [
        "# get prediction errors\n",
        "df_all_pred = df_all.copy()\n",
        "df_all_pred[\"y_true\"] = df_all[\"latency_ms\"]\n",
        "df_all_pred[\"y_pred\"] = model.predict(df_all.drop(columns=[\"latency_ms\", \"phase\"]))\n",
        "df_all_pred[\"error\"] = abs(df_all_pred[\"y_true\"] - df_all_pred[\"y_pred\"])\n",
        "\n",
        "# plot error by phase\n",
        "plt.figure(figsize=(6, 4))\n",
        "sns.boxplot(data=df_all_pred, x=\"phase\", y=\"error\")\n",
        "plt.title(\"Prediction Error (ms) by Workload Phase\")\n",
        "plt.tight_layout()\n",
        "plt.show()"
      ],
      "metadata": {
        "colab": {
          "base_uri": "https://localhost:8080/",
          "height": 401
        },
        "id": "0Jj92gpYK0Ko",
        "outputId": "c7483182-7e98-4a0b-bd36-1e3fad82c3e7"
      },
      "execution_count": 88,
      "outputs": [
        {
          "output_type": "display_data",
          "data": {
            "text/plain": [
              "<Figure size 600x400 with 1 Axes>"
            ],
            "image/png": "[encoded data removed]"
          },
          "metadata": {}
        }
      ]
    },
    {
      "cell_type": "markdown",
      "source": [
        "##Inference Phase"
      ],
      "metadata": {
        "id": "Fl4nY3D6M7eC"
      }
    },
    {
      "cell_type": "code",
      "source": [
        "new_query = \"\"\"\n",
        "SELECT COUNT(*)\n",
        "FROM Customers\n",
        "JOIN Orders ON Customers.CustomerID = Orders.CustomerID\n",
        "WHERE Age > 35 AND Country = 'USA'\n",
        "\"\"\""
      ],
      "metadata": {
        "id": "Zr4Tdis5M_M0"
      },
      "execution_count": 89,
      "outputs": []
    },
    {
      "cell_type": "code",
      "source": [
        "features = extract_features(new_query)\n",
        "X_new = pd.DataFrame([features])"
      ],
      "metadata": {
        "id": "O_zl4yrZNBHO"
      },
      "execution_count": 90,
      "outputs": []
    },
    {
      "cell_type": "code",
      "source": [
        "predicted_latency = model.predict(X_new)[0]\n",
        "print(f\"Predicted Latency: {predicted_latency:.2f} ms\")"
      ],
      "metadata": {
        "colab": {
          "base_uri": "https://localhost:8080/"
        },
        "id": "rm_lClwTNDBE",
        "outputId": "57f0a89b-efae-4ec0-a6b2-581f3cc50123"
      },
      "execution_count": 91,
      "outputs": [
        {
          "output_type": "stream",
          "name": "stdout",
          "text": [
            "Predicted Latency: 5.04 ms\n"
          ]
        }
      ]
    },
    {
      "cell_type": "code",
      "source": [
        "actual_latency = run_and_time_query(new_query)\n",
        "print(f\"Actual Latency: {actual_latency:.2f} ms\")"
      ],
      "metadata": {
        "colab": {
          "base_uri": "https://localhost:8080/"
        },
        "id": "ZOuPrg9qNEts",
        "outputId": "a74567da-1fbb-4126-d826-d72c8824b9d7"
      },
      "execution_count": 100,
      "outputs": [
        {
          "output_type": "stream",
          "name": "stdout",
          "text": [
            "Actual Latency: 10.96 ms\n"
          ]
        }
      ]
    }
  ]
}